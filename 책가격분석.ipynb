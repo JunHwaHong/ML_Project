{
 "cells": [
  {
   "cell_type": "code",
   "execution_count": 1,
   "id": "87802833",
   "metadata": {},
   "outputs": [],
   "source": [
    "import os\n",
    "import sys\n",
    "import json\n",
    "import time\n",
    "import requests\n",
    "from bs4 import BeautifulSoup\n",
    "import re\n",
    "import urllib.request\n",
    "import pandas as pd\n",
    "import numpy as np\n",
    "import datetime\n",
    "import matplotlib.pyplot as plt \n",
    "from matplotlib import font_manager, rc\n",
    "import seaborn as sns \n",
    "sns.set_style(\"darkgrid\")\n",
    "%matplotlib inline \n",
    "rc(\"font\", family=\"Malgun Gothic\")\n",
    "plt.rcParams[\"axes.unicode_minus\"] = False \n",
    "\n",
    "import warnings\n",
    "warnings.filterwarnings(action='ignore')"
   ]
  },
  {
   "cell_type": "markdown",
   "id": "7034536a",
   "metadata": {},
   "source": [
    "# 문제 1) 프로그래밍 언어 관련 책 정보 가져오기"
   ]
  },
  {
   "cell_type": "code",
   "execution_count": 2,
   "id": "7f6e37c3",
   "metadata": {},
   "outputs": [],
   "source": [
    "lang_top_20 = ['Python', 'C', 'Java', 'C++', 'C#', 'Visual Basic', 'Javascript', 'SQL', 'PHP',\n",
    "               'Assembly language', 'Classic Visual Basic', 'Go', 'MATLAB', 'Groovy', 'Ruby', 'Swift',\n",
    "               'Fortran', 'Perl', 'Delphi/Object Pascal',\n",
    "              \"파이썬\", 'C언어', 'C 언어', '자바', '비주얼 베이직', '자바스크립트', 'R 언어', \"R Programming\", 'R 프로그래밍',\n",
    "              '어셈블리 언어', '어셈블리어', '클래식 비주얼 베이직', '고 언어', 'Go언어', '매트랩']"
   ]
  },
  {
   "cell_type": "code",
   "execution_count": 3,
   "id": "291e763c",
   "metadata": {},
   "outputs": [],
   "source": [
    "client_id = \" \"\n",
    "client_pw = \" \""
   ]
  },
  {
   "cell_type": "code",
   "execution_count": 4,
   "id": "e6c84edf",
   "metadata": {},
   "outputs": [],
   "source": [
    "def gen_search_url(api_node, search_text, start_num, disp_num):\n",
    "    base = \"https://openapi.naver.com/v1/search\"\n",
    "    node = \"/\" + api_node + \".json\"\n",
    "    param_query = \"?query=\" + urllib.parse.quote(search_text)\n",
    "    param_start = \"&start=\" + str(start_num)\n",
    "    param_disp = \"&display=\" + str(disp_num)\n",
    "    \n",
    "    return base + node + param_query + param_start + param_disp"
   ]
  },
  {
   "cell_type": "code",
   "execution_count": 5,
   "id": "ec1616de",
   "metadata": {},
   "outputs": [],
   "source": [
    "def get_result_onpage(url):\n",
    "    global client_id\n",
    "    global client_pw\n",
    "    request = urllib.request.Request(url)\n",
    "    request.add_header(\"X-Naver-Client-Id\", client_id)\n",
    "    request.add_header(\"X-Naver-Client-Secret\", client_pw)\n",
    "    response = urllib.request.urlopen(request)\n",
    "    print(\"[%s] Url Request Success\" % datetime.datetime.now())\n",
    "    return json.loads(response.read().decode(\"utf-8\"))"
   ]
  },
  {
   "cell_type": "code",
   "execution_count": 6,
   "id": "25863096",
   "metadata": {},
   "outputs": [],
   "source": [
    "def delete_tag(input_str):\n",
    "    input_str = input_str.replace(\"<b>\", \"\")\n",
    "    input_str = input_str.replace(\"</b>\", \"\")\n",
    "    return input_str "
   ]
  },
  {
   "cell_type": "code",
   "execution_count": 7,
   "id": "df013079",
   "metadata": {},
   "outputs": [],
   "source": [
    "def get_fields(json_data, _keyword):\n",
    "    title = [delete_tag(each[\"title\"]) for each in json_data[\"items\"]]\n",
    "    link = [each[\"link\"] for each in json_data[\"items\"]]\n",
    "    author = [each[\"author\"] for each in json_data[\"items\"]]\n",
    "    price = [each[\"price\"] for each in json_data[\"items\"]]\n",
    "    discount = [each[\"discount\"] for each in json_data[\"items\"]]\n",
    "    publisher = [delete_tag(each[\"publisher\"]) for each in json_data[\"items\"]]\n",
    "    pubdate = [each[\"pubdate\"] for each in json_data[\"items\"]]\n",
    "    isbn = [each[\"isbn\"] for each in json_data[\"items\"]]\n",
    "    description = [delete_tag(each[\"description\"]) for each in json_data[\"items\"]]\n",
    "    \n",
    "    result_pd = pd.DataFrame({\n",
    "        \"keyword\" : [_keyword] * len(title),\n",
    "        \"title\": title, \n",
    "        \"link\": link, \n",
    "        \"author\": author, \n",
    "        \"price\": price,\n",
    "        \"discount\" : discount,\n",
    "        \"publisher\" : publisher,\n",
    "        \"pubdate\" : pubdate,\n",
    "        \"isbn\" : isbn,\n",
    "        \"description\" : description,\n",
    "    }, columns=[\"keyword\", \"title\", \"link\", \"author\", \"price\", \"discount\", \"publisher\", \"pubdate\", \"isbn\", \"description\"])\n",
    "    return result_pd"
   ]
  },
  {
   "cell_type": "code",
   "execution_count": 8,
   "id": "36d0392c",
   "metadata": {
    "scrolled": true
   },
   "outputs": [
    {
     "name": "stdout",
     "output_type": "stream",
     "text": [
      "[2021-10-21 13:06:24.594432] Url Request Success\n",
      "[2021-10-21 13:06:25.048875] Url Request Success\n",
      "[2021-10-21 13:06:25.526307] Url Request Success\n",
      "[2021-10-21 13:06:26.003645] Url Request Success\n",
      "[2021-10-21 13:06:26.489386] Url Request Success\n",
      "[2021-10-21 13:06:26.991416] Url Request Success\n",
      "[2021-10-21 13:06:27.459045] Url Request Success\n",
      "[2021-10-21 13:06:27.931546] Url Request Success\n",
      "[2021-10-21 13:06:28.419936] Url Request Success\n",
      "[2021-10-21 13:06:28.872946] Url Request Success\n",
      "[2021-10-21 13:06:29.333933] Url Request Success\n",
      "[2021-10-21 13:06:29.800608] Url Request Success\n",
      "[2021-10-21 13:06:30.266176] Url Request Success\n",
      "[2021-10-21 13:06:30.752516] Url Request Success\n",
      "[2021-10-21 13:06:31.242556] Url Request Success\n",
      "[2021-10-21 13:06:31.728246] Url Request Success\n",
      "[2021-10-21 13:06:32.202526] Url Request Success\n",
      "[2021-10-21 13:06:32.676982] Url Request Success\n",
      "[2021-10-21 13:06:33.199596] Url Request Success\n",
      "[2021-10-21 13:06:33.707085] Url Request Success\n",
      "[2021-10-21 13:06:34.163371] Url Request Success\n",
      "[2021-10-21 13:06:34.620191] Url Request Success\n",
      "[2021-10-21 13:06:35.046370] Url Request Success\n",
      "[2021-10-21 13:06:35.464614] Url Request Success\n",
      "[2021-10-21 13:06:35.881678] Url Request Success\n",
      "[2021-10-21 13:06:36.367032] Url Request Success\n",
      "[2021-10-21 13:06:36.773092] Url Request Success\n",
      "[2021-10-21 13:06:37.194090] Url Request Success\n",
      "[2021-10-21 13:06:37.598307] Url Request Success\n",
      "[2021-10-21 13:06:38.057617] Url Request Success\n",
      "[2021-10-21 13:06:38.478878] Url Request Success\n",
      "[2021-10-21 13:06:38.877824] Url Request Success\n",
      "[2021-10-21 13:06:39.260635] Url Request Success\n",
      "[2021-10-21 13:06:39.673121] Url Request Success\n",
      "[2021-10-21 13:06:40.041874] Url Request Success\n",
      "[2021-10-21 13:06:40.434772] Url Request Success\n",
      "[2021-10-21 13:06:40.785064] Url Request Success\n",
      "[2021-10-21 13:06:41.182363] Url Request Success\n",
      "[2021-10-21 13:06:41.595664] Url Request Success\n",
      "[2021-10-21 13:06:42.015424] Url Request Success\n",
      "[2021-10-21 13:06:42.442854] Url Request Success\n",
      "[2021-10-21 13:06:42.876887] Url Request Success\n",
      "[2021-10-21 13:06:43.275849] Url Request Success\n",
      "[2021-10-21 13:06:43.660756] Url Request Success\n",
      "[2021-10-21 13:06:44.074918] Url Request Success\n",
      "[2021-10-21 13:06:44.501478] Url Request Success\n",
      "[2021-10-21 13:06:44.971604] Url Request Success\n",
      "[2021-10-21 13:06:45.371992] Url Request Success\n",
      "[2021-10-21 13:06:45.732750] Url Request Success\n",
      "[2021-10-21 13:06:46.061263] Url Request Success\n",
      "[2021-10-21 13:06:46.462300] Url Request Success\n",
      "[2021-10-21 13:06:46.895620] Url Request Success\n",
      "[2021-10-21 13:06:47.326748] Url Request Success\n",
      "[2021-10-21 13:06:47.834825] Url Request Success\n",
      "[2021-10-21 13:06:48.304029] Url Request Success\n",
      "[2021-10-21 13:06:48.762404] Url Request Success\n",
      "[2021-10-21 13:06:49.197135] Url Request Success\n",
      "[2021-10-21 13:06:49.565459] Url Request Success\n",
      "[2021-10-21 13:06:49.912762] Url Request Success\n",
      "[2021-10-21 13:06:50.264046] Url Request Success\n",
      "[2021-10-21 13:06:50.803105] Url Request Success\n",
      "[2021-10-21 13:06:51.231289] Url Request Success\n",
      "[2021-10-21 13:06:51.740786] Url Request Success\n",
      "[2021-10-21 13:06:52.222222] Url Request Success\n",
      "[2021-10-21 13:06:52.794818] Url Request Success\n",
      "[2021-10-21 13:06:53.217515] Url Request Success\n",
      "[2021-10-21 13:06:53.589973] Url Request Success\n",
      "[2021-10-21 13:06:53.975130] Url Request Success\n",
      "[2021-10-21 13:06:54.314810] Url Request Success\n",
      "[2021-10-21 13:06:54.642710] Url Request Success\n",
      "[2021-10-21 13:06:55.044610] Url Request Success\n",
      "[2021-10-21 13:06:55.516738] Url Request Success\n",
      "[2021-10-21 13:06:55.975678] Url Request Success\n",
      "[2021-10-21 13:06:56.359719] Url Request Success\n",
      "[2021-10-21 13:06:56.775457] Url Request Success\n",
      "[2021-10-21 13:06:57.188609] Url Request Success\n",
      "[2021-10-21 13:06:57.583373] Url Request Success\n",
      "[2021-10-21 13:06:58.075882] Url Request Success\n",
      "[2021-10-21 13:06:58.531265] Url Request Success\n",
      "[2021-10-21 13:06:58.981288] Url Request Success\n",
      "[2021-10-21 13:06:59.351149] Url Request Success\n",
      "[2021-10-21 13:06:59.711358] Url Request Success\n",
      "[2021-10-21 13:07:00.094911] Url Request Success\n",
      "[2021-10-21 13:07:00.525844] Url Request Success\n",
      "[2021-10-21 13:07:01.004836] Url Request Success\n",
      "[2021-10-21 13:07:01.394300] Url Request Success\n",
      "[2021-10-21 13:07:01.771514] Url Request Success\n",
      "[2021-10-21 13:07:02.220918] Url Request Success\n",
      "[2021-10-21 13:07:02.560951] Url Request Success\n",
      "[2021-10-21 13:07:02.875813] Url Request Success\n",
      "[2021-10-21 13:07:03.367290] Url Request Success\n",
      "[2021-10-21 13:07:03.664759] Url Request Success\n",
      "[2021-10-21 13:07:03.956211] Url Request Success\n",
      "[2021-10-21 13:07:04.267646] Url Request Success\n",
      "[2021-10-21 13:07:04.732364] Url Request Success\n",
      "[2021-10-21 13:07:05.210347] Url Request Success\n",
      "[2021-10-21 13:07:05.899523] Url Request Success\n",
      "[2021-10-21 13:07:06.400099] Url Request Success\n",
      "[2021-10-21 13:07:06.923309] Url Request Success\n",
      "[2021-10-21 13:07:07.398553] Url Request Success\n",
      "[2021-10-21 13:07:08.093898] Url Request Success\n",
      "[2021-10-21 13:07:08.716780] Url Request Success\n",
      "[2021-10-21 13:07:09.206908] Url Request Success\n",
      "[2021-10-21 13:07:09.353102] Url Request Success\n",
      "[2021-10-21 13:07:09.465649] Url Request Success\n",
      "[2021-10-21 13:07:09.593437] Url Request Success\n",
      "[2021-10-21 13:07:09.731285] Url Request Success\n",
      "[2021-10-21 13:07:09.870037] Url Request Success\n",
      "[2021-10-21 13:07:10.029828] Url Request Success\n",
      "[2021-10-21 13:07:10.159383] Url Request Success\n",
      "[2021-10-21 13:07:10.549955] Url Request Success\n",
      "[2021-10-21 13:07:10.946832] Url Request Success\n",
      "[2021-10-21 13:07:11.366076] Url Request Success\n",
      "[2021-10-21 13:07:11.813296] Url Request Success\n",
      "[2021-10-21 13:07:12.238345] Url Request Success\n",
      "[2021-10-21 13:07:12.680453] Url Request Success\n",
      "[2021-10-21 13:07:13.089459] Url Request Success\n",
      "[2021-10-21 13:07:13.495768] Url Request Success\n",
      "[2021-10-21 13:07:13.962673] Url Request Success\n",
      "[2021-10-21 13:07:14.424266] Url Request Success\n",
      "[2021-10-21 13:07:14.802059] Url Request Success\n",
      "[2021-10-21 13:07:15.215549] Url Request Success\n",
      "[2021-10-21 13:07:15.564251] Url Request Success\n",
      "[2021-10-21 13:07:15.972219] Url Request Success\n",
      "[2021-10-21 13:07:16.375278] Url Request Success\n",
      "[2021-10-21 13:07:16.838280] Url Request Success\n",
      "[2021-10-21 13:07:17.308659] Url Request Success\n",
      "[2021-10-21 13:07:17.739333] Url Request Success\n",
      "[2021-10-21 13:07:18.162294] Url Request Success\n",
      "[2021-10-21 13:07:18.562619] Url Request Success\n",
      "[2021-10-21 13:07:18.874405] Url Request Success\n",
      "[2021-10-21 13:07:19.201919] Url Request Success\n",
      "[2021-10-21 13:07:19.526905] Url Request Success\n",
      "[2021-10-21 13:07:19.885394] Url Request Success\n",
      "[2021-10-21 13:07:20.219047] Url Request Success\n",
      "[2021-10-21 13:07:20.545065] Url Request Success\n",
      "[2021-10-21 13:07:20.855471] Url Request Success\n",
      "[2021-10-21 13:07:21.140643] Url Request Success\n",
      "[2021-10-21 13:07:21.455072] Url Request Success\n",
      "[2021-10-21 13:07:21.764283] Url Request Success\n",
      "[2021-10-21 13:07:22.142946] Url Request Success\n",
      "[2021-10-21 13:07:22.555375] Url Request Success\n",
      "[2021-10-21 13:07:22.912330] Url Request Success\n",
      "[2021-10-21 13:07:23.332564] Url Request Success\n",
      "[2021-10-21 13:07:23.748657] Url Request Success\n",
      "[2021-10-21 13:07:24.092635] Url Request Success\n",
      "[2021-10-21 13:07:24.416948] Url Request Success\n",
      "[2021-10-21 13:07:24.751586] Url Request Success\n",
      "[2021-10-21 13:07:25.081666] Url Request Success\n",
      "[2021-10-21 13:07:25.351634] Url Request Success\n",
      "[2021-10-21 13:07:25.767541] Url Request Success\n",
      "[2021-10-21 13:07:26.215724] Url Request Success\n",
      "[2021-10-21 13:07:26.651986] Url Request Success\n",
      "[2021-10-21 13:07:27.083769] Url Request Success\n",
      "[2021-10-21 13:07:27.483787] Url Request Success\n",
      "[2021-10-21 13:07:27.844050] Url Request Success\n",
      "[2021-10-21 13:07:28.177291] Url Request Success\n",
      "[2021-10-21 13:07:28.520364] Url Request Success\n",
      "[2021-10-21 13:07:28.910809] Url Request Success\n",
      "[2021-10-21 13:07:29.316469] Url Request Success\n",
      "[2021-10-21 13:07:29.711702] Url Request Success\n",
      "[2021-10-21 13:07:30.018510] Url Request Success\n",
      "[2021-10-21 13:07:30.299304] Url Request Success\n",
      "[2021-10-21 13:07:30.544709] Url Request Success\n",
      "[2021-10-21 13:07:30.813533] Url Request Success\n",
      "[2021-10-21 13:07:31.088081] Url Request Success\n",
      "[2021-10-21 13:07:31.387024] Url Request Success\n",
      "[2021-10-21 13:07:31.793336] Url Request Success\n"
     ]
    },
    {
     "name": "stdout",
     "output_type": "stream",
     "text": [
      "[2021-10-21 13:07:32.259733] Url Request Success\n",
      "[2021-10-21 13:07:32.694277] Url Request Success\n",
      "[2021-10-21 13:07:33.083138] Url Request Success\n",
      "[2021-10-21 13:07:33.521501] Url Request Success\n",
      "[2021-10-21 13:07:33.834702] Url Request Success\n",
      "[2021-10-21 13:07:34.127926] Url Request Success\n",
      "[2021-10-21 13:07:34.434252] Url Request Success\n",
      "[2021-10-21 13:07:34.801747] Url Request Success\n",
      "[2021-10-21 13:07:35.121977] Url Request Success\n",
      "[2021-10-21 13:07:35.428820] Url Request Success\n",
      "[2021-10-21 13:07:35.894649] Url Request Success\n",
      "[2021-10-21 13:07:36.358430] Url Request Success\n",
      "[2021-10-21 13:07:36.621363] Url Request Success\n",
      "[2021-10-21 13:07:36.767135] Url Request Success\n",
      "[2021-10-21 13:07:36.924458] Url Request Success\n",
      "[2021-10-21 13:07:37.062368] Url Request Success\n",
      "[2021-10-21 13:07:37.191116] Url Request Success\n",
      "[2021-10-21 13:07:37.316415] Url Request Success\n",
      "[2021-10-21 13:07:37.439652] Url Request Success\n",
      "[2021-10-21 13:07:37.586012] Url Request Success\n",
      "[2021-10-21 13:07:37.702068] Url Request Success\n",
      "[2021-10-21 13:07:37.818247] Url Request Success\n",
      "[2021-10-21 13:07:38.180087] Url Request Success\n",
      "[2021-10-21 13:07:38.565087] Url Request Success\n",
      "[2021-10-21 13:07:38.955691] Url Request Success\n",
      "[2021-10-21 13:07:39.315175] Url Request Success\n",
      "[2021-10-21 13:07:39.736420] Url Request Success\n",
      "[2021-10-21 13:07:40.104117] Url Request Success\n",
      "[2021-10-21 13:07:40.529344] Url Request Success\n",
      "[2021-10-21 13:07:40.960462] Url Request Success\n",
      "[2021-10-21 13:07:41.390655] Url Request Success\n",
      "[2021-10-21 13:07:41.828504] Url Request Success\n",
      "[2021-10-21 13:07:42.274526] Url Request Success\n",
      "[2021-10-21 13:07:42.643352] Url Request Success\n",
      "[2021-10-21 13:07:43.123522] Url Request Success\n",
      "[2021-10-21 13:07:43.547288] Url Request Success\n",
      "[2021-10-21 13:07:43.949884] Url Request Success\n",
      "[2021-10-21 13:07:44.315597] Url Request Success\n",
      "[2021-10-21 13:07:44.696303] Url Request Success\n",
      "[2021-10-21 13:07:45.141926] Url Request Success\n",
      "[2021-10-21 13:07:45.673619] Url Request Success\n",
      "[2021-10-21 13:07:46.143433] Url Request Success\n",
      "[2021-10-21 13:07:46.538910] Url Request Success\n",
      "[2021-10-21 13:07:46.934938] Url Request Success\n",
      "[2021-10-21 13:07:47.303696] Url Request Success\n",
      "[2021-10-21 13:07:47.701571] Url Request Success\n",
      "[2021-10-21 13:07:48.102196] Url Request Success\n",
      "[2021-10-21 13:07:48.459628] Url Request Success\n",
      "[2021-10-21 13:07:48.865460] Url Request Success\n",
      "[2021-10-21 13:07:49.324936] Url Request Success\n",
      "[2021-10-21 13:07:49.814184] Url Request Success\n",
      "[2021-10-21 13:07:50.397184] Url Request Success\n",
      "[2021-10-21 13:07:50.815845] Url Request Success\n",
      "[2021-10-21 13:07:51.200449] Url Request Success\n",
      "[2021-10-21 13:07:51.597352] Url Request Success\n",
      "[2021-10-21 13:07:51.959707] Url Request Success\n",
      "[2021-10-21 13:07:52.385867] Url Request Success\n",
      "[2021-10-21 13:07:52.763449] Url Request Success\n",
      "[2021-10-21 13:07:53.093705] Url Request Success\n",
      "[2021-10-21 13:07:53.404359] Url Request Success\n",
      "[2021-10-21 13:07:53.799856] Url Request Success\n",
      "[2021-10-21 13:07:54.221069] Url Request Success\n",
      "[2021-10-21 13:07:54.576882] Url Request Success\n",
      "[2021-10-21 13:07:54.927670] Url Request Success\n",
      "[2021-10-21 13:07:55.261552] Url Request Success\n",
      "[2021-10-21 13:07:55.609508] Url Request Success\n",
      "[2021-10-21 13:07:56.011275] Url Request Success\n",
      "[2021-10-21 13:07:56.427754] Url Request Success\n",
      "[2021-10-21 13:07:56.811668] Url Request Success\n",
      "[2021-10-21 13:07:57.257859] Url Request Success\n",
      "[2021-10-21 13:07:57.630659] Url Request Success\n",
      "[2021-10-21 13:07:58.076598] Url Request Success\n",
      "[2021-10-21 13:07:58.455772] Url Request Success\n",
      "[2021-10-21 13:07:58.827073] Url Request Success\n",
      "[2021-10-21 13:07:59.213133] Url Request Success\n",
      "[2021-10-21 13:07:59.646615] Url Request Success\n",
      "[2021-10-21 13:08:00.134619] Url Request Success\n",
      "[2021-10-21 13:08:00.597175] Url Request Success\n",
      "[2021-10-21 13:08:01.049900] Url Request Success\n",
      "[2021-10-21 13:08:01.504146] Url Request Success\n",
      "[2021-10-21 13:08:01.989168] Url Request Success\n",
      "[2021-10-21 13:08:02.447215] Url Request Success\n",
      "[2021-10-21 13:08:02.910156] Url Request Success\n",
      "[2021-10-21 13:08:03.424513] Url Request Success\n",
      "[2021-10-21 13:08:03.945770] Url Request Success\n",
      "[2021-10-21 13:08:04.400265] Url Request Success\n",
      "[2021-10-21 13:08:04.841617] Url Request Success\n",
      "[2021-10-21 13:08:05.225971] Url Request Success\n",
      "[2021-10-21 13:08:05.616965] Url Request Success\n",
      "[2021-10-21 13:08:05.941779] Url Request Success\n",
      "[2021-10-21 13:08:06.385439] Url Request Success\n",
      "[2021-10-21 13:08:06.940486] Url Request Success\n",
      "[2021-10-21 13:08:07.367720] Url Request Success\n",
      "[2021-10-21 13:08:07.779092] Url Request Success\n",
      "[2021-10-21 13:08:08.150254] Url Request Success\n",
      "[2021-10-21 13:08:08.529254] Url Request Success\n",
      "[2021-10-21 13:08:09.009006] Url Request Success\n",
      "[2021-10-21 13:08:09.446740] Url Request Success\n",
      "[2021-10-21 13:08:09.964985] Url Request Success\n",
      "[2021-10-21 13:08:10.579327] Url Request Success\n",
      "[2021-10-21 13:08:11.097749] Url Request Success\n",
      "[2021-10-21 13:08:11.661492] Url Request Success\n",
      "[2021-10-21 13:08:12.126573] Url Request Success\n",
      "[2021-10-21 13:08:12.559105] Url Request Success\n",
      "[2021-10-21 13:08:13.004306] Url Request Success\n",
      "[2021-10-21 13:08:13.484004] Url Request Success\n",
      "[2021-10-21 13:08:13.939354] Url Request Success\n",
      "[2021-10-21 13:08:14.285247] Url Request Success\n",
      "[2021-10-21 13:08:14.414203] Url Request Success\n",
      "[2021-10-21 13:08:14.555396] Url Request Success\n",
      "[2021-10-21 13:08:14.683213] Url Request Success\n",
      "[2021-10-21 13:08:14.806691] Url Request Success\n",
      "[2021-10-21 13:08:15.170723] Url Request Success\n",
      "[2021-10-21 13:08:15.582751] Url Request Success\n",
      "[2021-10-21 13:08:16.083867] Url Request Success\n",
      "[2021-10-21 13:08:16.532134] Url Request Success\n",
      "[2021-10-21 13:08:16.936555] Url Request Success\n",
      "[2021-10-21 13:08:17.180200] Url Request Success\n",
      "[2021-10-21 13:08:17.327941] Url Request Success\n",
      "[2021-10-21 13:08:17.436408] Url Request Success\n",
      "[2021-10-21 13:08:17.569416] Url Request Success\n",
      "[2021-10-21 13:08:17.697307] Url Request Success\n",
      "[2021-10-21 13:08:18.083268] Url Request Success\n",
      "[2021-10-21 13:08:18.459369] Url Request Success\n",
      "[2021-10-21 13:08:18.630836] Url Request Success\n",
      "[2021-10-21 13:08:18.801098] Url Request Success\n",
      "[2021-10-21 13:08:18.930758] Url Request Success\n",
      "[2021-10-21 13:08:19.079403] Url Request Success\n",
      "[2021-10-21 13:08:19.213732] Url Request Success\n",
      "[2021-10-21 13:08:19.347798] Url Request Success\n",
      "[2021-10-21 13:08:19.469412] Url Request Success\n",
      "[2021-10-21 13:08:19.595584] Url Request Success\n",
      "[2021-10-21 13:08:19.734287] Url Request Success\n",
      "[2021-10-21 13:08:19.875848] Url Request Success\n",
      "[2021-10-21 13:08:20.023120] Url Request Success\n",
      "[2021-10-21 13:08:20.167813] Url Request Success\n",
      "[2021-10-21 13:08:20.314720] Url Request Success\n",
      "[2021-10-21 13:08:20.442790] Url Request Success\n",
      "[2021-10-21 13:08:20.576990] Url Request Success\n",
      "[2021-10-21 13:08:20.706325] Url Request Success\n",
      "[2021-10-21 13:08:20.844495] Url Request Success\n",
      "[2021-10-21 13:08:20.973009] Url Request Success\n",
      "[2021-10-21 13:08:21.395901] Url Request Success\n",
      "[2021-10-21 13:08:21.877536] Url Request Success\n",
      "[2021-10-21 13:08:22.327743] Url Request Success\n",
      "[2021-10-21 13:08:22.812515] Url Request Success\n",
      "[2021-10-21 13:08:23.349374] Url Request Success\n",
      "[2021-10-21 13:08:23.868318] Url Request Success\n",
      "[2021-10-21 13:08:24.360888] Url Request Success\n",
      "[2021-10-21 13:08:24.896418] Url Request Success\n",
      "[2021-10-21 13:08:25.447417] Url Request Success\n",
      "[2021-10-21 13:08:25.927538] Url Request Success\n",
      "[2021-10-21 13:08:26.389951] Url Request Success\n",
      "[2021-10-21 13:08:26.898283] Url Request Success\n",
      "[2021-10-21 13:08:27.264115] Url Request Success\n",
      "[2021-10-21 13:08:27.679870] Url Request Success\n",
      "[2021-10-21 13:08:28.146358] Url Request Success\n",
      "[2021-10-21 13:08:28.624214] Url Request Success\n",
      "[2021-10-21 13:08:29.181703] Url Request Success\n",
      "[2021-10-21 13:08:29.689167] Url Request Success\n",
      "[2021-10-21 13:08:30.223203] Url Request Success\n",
      "[2021-10-21 13:08:30.761240] Url Request Success\n",
      "[2021-10-21 13:08:31.213219] Url Request Success\n",
      "[2021-10-21 13:08:31.350509] Url Request Success\n",
      "[2021-10-21 13:08:31.485854] Url Request Success\n",
      "[2021-10-21 13:08:31.606555] Url Request Success\n",
      "[2021-10-21 13:08:31.741111] Url Request Success\n",
      "[2021-10-21 13:08:31.873695] Url Request Success\n"
     ]
    },
    {
     "name": "stdout",
     "output_type": "stream",
     "text": [
      "[2021-10-21 13:08:31.999802] Url Request Success\n",
      "[2021-10-21 13:08:32.111102] Url Request Success\n",
      "[2021-10-21 13:08:32.236679] Url Request Success\n",
      "[2021-10-21 13:08:32.374287] Url Request Success\n"
     ]
    }
   ],
   "source": [
    "###\n",
    "df_books = pd.DataFrame(columns=[\"keyword\", \"title\", \"link\", \"author\", \"price\", \"discount\", \"publisher\", \"pubdate\", \"isbn\", \"description\"])\n",
    "for _text in lang_top_20:\n",
    "    tmp_li = []\n",
    "    for i in range(1, 1000, 100):\n",
    "        url = gen_search_url(\"book\", _text, i, 100)\n",
    "        json_result = get_result_onpage(url)\n",
    "        pd_result = get_fields(json_result, _text)\n",
    "        tmp_li.append(pd_result)\n",
    "        time.sleep(0.001)\n",
    "    df_books = df_books.append(pd.concat(tmp_li))"
   ]
  },
  {
   "cell_type": "code",
   "execution_count": 9,
   "id": "3eb26fa6",
   "metadata": {},
   "outputs": [
    {
     "data": {
      "text/plain": [
       "array(['Python', 'C', 'Java', 'C++', 'C#', 'Visual Basic', 'Javascript',\n",
       "       'SQL', 'PHP', 'Assembly language', 'Classic Visual Basic', 'Go',\n",
       "       'MATLAB', 'Groovy', 'Ruby', 'Swift', 'Fortran', 'Perl',\n",
       "       'Delphi/Object Pascal', '파이썬', 'C언어', 'C 언어', '자바', '비주얼 베이직',\n",
       "       '자바스크립트', 'R 언어', 'R Programming', 'R 프로그래밍', '어셈블리 언어', '어셈블리어',\n",
       "       '클래식 비주얼 베이직', '고 언어', 'Go언어', '매트랩'], dtype=object)"
      ]
     },
     "execution_count": 9,
     "metadata": {},
     "output_type": "execute_result"
    }
   ],
   "source": [
    "df_books['keyword'].unique()"
   ]
  },
  {
   "cell_type": "code",
   "execution_count": 10,
   "id": "8e9cce80",
   "metadata": {},
   "outputs": [],
   "source": [
    "df_books.to_excel('df_books.xlsx', index=None)"
   ]
  },
  {
   "cell_type": "code",
   "execution_count": 2,
   "id": "5fa6c705",
   "metadata": {
    "scrolled": true
   },
   "outputs": [
    {
     "name": "stdout",
     "output_type": "stream",
     "text": [
      "28728\n"
     ]
    },
    {
     "data": {
      "text/html": [
       "<div>\n",
       "<style scoped>\n",
       "    .dataframe tbody tr th:only-of-type {\n",
       "        vertical-align: middle;\n",
       "    }\n",
       "\n",
       "    .dataframe tbody tr th {\n",
       "        vertical-align: top;\n",
       "    }\n",
       "\n",
       "    .dataframe thead th {\n",
       "        text-align: right;\n",
       "    }\n",
       "</style>\n",
       "<table border=\"1\" class=\"dataframe\">\n",
       "  <thead>\n",
       "    <tr style=\"text-align: right;\">\n",
       "      <th></th>\n",
       "      <th>keyword</th>\n",
       "      <th>title</th>\n",
       "      <th>link</th>\n",
       "      <th>author</th>\n",
       "      <th>price</th>\n",
       "      <th>discount</th>\n",
       "      <th>publisher</th>\n",
       "      <th>pubdate</th>\n",
       "      <th>isbn</th>\n",
       "      <th>description</th>\n",
       "    </tr>\n",
       "  </thead>\n",
       "  <tbody>\n",
       "    <tr>\n",
       "      <th>28725</th>\n",
       "      <td>매트랩</td>\n",
       "      <td>공학도를 위한 알기쉬운 수치해석</td>\n",
       "      <td>http://book.naver.com/bookdb/book_detail.php?b...</td>\n",
       "      <td>백태현</td>\n",
       "      <td>18000.0</td>\n",
       "      <td>NaN</td>\n",
       "      <td>청문각</td>\n",
       "      <td>20070228</td>\n",
       "      <td>8992592124 9788992592123</td>\n",
       "      <td>수치해석 입문서. 이 책은 전자계산기와 수치해석의 개념, 매트랩 기초와 비선형 방정...</td>\n",
       "    </tr>\n",
       "    <tr>\n",
       "      <th>28726</th>\n",
       "      <td>매트랩</td>\n",
       "      <td>알기쉬운 선형대수학</td>\n",
       "      <td>http://book.naver.com/bookdb/book_detail.php?b...</td>\n",
       "      <td>이광연</td>\n",
       "      <td>18000.0</td>\n",
       "      <td>NaN</td>\n",
       "      <td>경문사</td>\n",
       "      <td>20040810</td>\n",
       "      <td>8972827088 9788972827085</td>\n",
       "      <td>선형대수학 교재. 수학전공자들을 위해 이론과 설명을 정리하였다.</td>\n",
       "    </tr>\n",
       "    <tr>\n",
       "      <th>28727</th>\n",
       "      <td>매트랩</td>\n",
       "      <td>공학 수치해석 (MATLAB으로 배우는)</td>\n",
       "      <td>http://book.naver.com/bookdb/book_detail.php?b...</td>\n",
       "      <td>방성완</td>\n",
       "      <td>23000.0</td>\n",
       "      <td>NaN</td>\n",
       "      <td>한빛미디어</td>\n",
       "      <td>20121207</td>\n",
       "      <td>8979149859 9788979149852</td>\n",
       "      <td>MATLAB으로 배우는 『공학 수치해석』. 수치해석의 기본 공식, 방법과 기술 등의...</td>\n",
       "    </tr>\n",
       "  </tbody>\n",
       "</table>\n",
       "</div>"
      ],
      "text/plain": [
       "      keyword                   title  \\\n",
       "28725     매트랩       공학도를 위한 알기쉬운 수치해석   \n",
       "28726     매트랩              알기쉬운 선형대수학   \n",
       "28727     매트랩  공학 수치해석 (MATLAB으로 배우는)   \n",
       "\n",
       "                                                    link author    price  \\\n",
       "28725  http://book.naver.com/bookdb/book_detail.php?b...    백태현  18000.0   \n",
       "28726  http://book.naver.com/bookdb/book_detail.php?b...    이광연  18000.0   \n",
       "28727  http://book.naver.com/bookdb/book_detail.php?b...    방성완  23000.0   \n",
       "\n",
       "       discount publisher   pubdate                      isbn  \\\n",
       "28725       NaN       청문각  20070228  8992592124 9788992592123   \n",
       "28726       NaN       경문사  20040810  8972827088 9788972827085   \n",
       "28727       NaN     한빛미디어  20121207  8979149859 9788979149852   \n",
       "\n",
       "                                             description  \n",
       "28725  수치해석 입문서. 이 책은 전자계산기와 수치해석의 개념, 매트랩 기초와 비선형 방정...  \n",
       "28726                선형대수학 교재. 수학전공자들을 위해 이론과 설명을 정리하였다.  \n",
       "28727  MATLAB으로 배우는 『공학 수치해석』. 수치해석의 기본 공식, 방법과 기술 등의...  "
      ]
     },
     "execution_count": 2,
     "metadata": {},
     "output_type": "execute_result"
    }
   ],
   "source": [
    "df = pd.read_excel(\"./df_books.xlsx\")\n",
    "print(len(df))\n",
    "df.tail(3)"
   ]
  },
  {
   "cell_type": "code",
   "execution_count": 3,
   "id": "d1e37c23",
   "metadata": {},
   "outputs": [],
   "source": [
    "# description 없는 항목 제거\n",
    "df = df.dropna(subset=['description'])\n",
    "\n",
    "# keyword 통일\n",
    "df.loc[df['keyword']==\"파이썬\", \"keyword\"] = \"Python\"\n",
    "df.loc[df['keyword'].isin([\"C언어\", 'C 언어']), \"keyword\"] = \"C\"\n",
    "df.loc[df['keyword'].isin([\"자바\"]), \"keyword\"] = \"Java\"\n",
    "df.loc[df['keyword'].isin([\"비주얼 베이직\"]), \"keyword\"] = \"Visual Basic\"\n",
    "df.loc[df['keyword'].isin([\"자바스크립트\"]), \"keyword\"] = \"Javascript\"\n",
    "df.loc[df['keyword'].isin([\"R 언어\", \"R 프로그래밍\", \"R Programming\"]), \"keyword\"] = \"R\"\n",
    "df.loc[df['keyword'].isin([\"어셈블리 언어\", '어셈블리어']), \"keyword\"] = \"Assembly language\"\n",
    "df.loc[df['keyword'].isin([\"클래식 비주얼 베이직\"]), \"keyword\"] = 'Classic Visual Basic'\n",
    "df.loc[df['keyword'].isin([\"고 언어\", 'Go언어']), \"keyword\"] = 'Go'\n",
    "df.loc[df['keyword'].isin([\"매트랩\"]), \"keyword\"] = 'MATLAB'"
   ]
  },
  {
   "cell_type": "code",
   "execution_count": 4,
   "id": "e2929fdb",
   "metadata": {},
   "outputs": [
    {
     "data": {
      "text/plain": [
       "22488"
      ]
     },
     "execution_count": 4,
     "metadata": {},
     "output_type": "execute_result"
    }
   ],
   "source": [
    "len(df)"
   ]
  },
  {
   "cell_type": "code",
   "execution_count": 5,
   "id": "75295c05",
   "metadata": {},
   "outputs": [],
   "source": [
    "df = df.reset_index(drop=True)"
   ]
  },
  {
   "cell_type": "code",
   "execution_count": 6,
   "id": "56ba8619",
   "metadata": {},
   "outputs": [],
   "source": [
    "lang_top_20 = ['Python', 'C', 'Java', 'C++', 'C#', 'Visual Basic', 'Javascript', 'SQL', 'PHP',\n",
    "               'Assembly language', 'Classic Visual Basic', 'Go', 'MATLAB', 'R', 'Groovy', 'Ruby', 'Swift',\n",
    "               'Fortran', 'Perl', 'Delphi/Object Pascal']\n",
    "\n",
    "lang_top_20_incl = {'Python': ['python', '파이썬', 'programming'],\n",
    "                  'C' : ['프로그래밍', \"programming\", 'c언어', 'c 언어'],\n",
    "                  'Java' : ['자바', 'java'],\n",
    "                   'C++':['c++'],\n",
    "                   'C#' : ['c#'],\n",
    "                   'Visual Basic':['visual basic', '비주얼 베이직', 'vba'],\n",
    "                   'Javascript':[\"script\", '자바스크립트'],\n",
    "                   'SQL':['sql'],\n",
    "                   'PHP':['php'],\n",
    "                    'Assembly language' : ['어셈블리어', 'assembly', '어셈블리'],\n",
    "                    'Classic Visual Basic' : ['classic'],\n",
    "                    'Go' : ['go 언어', 'go언어'],\n",
    "                    'MATLAB' : ['matlab', '매트랩'],\n",
    "                    'R': ['r프로그래밍', '통계', 'r 언어', 'r언어', ' r ','rstudio', 'r을', 'r과','r로', 'r Programming'],\n",
    "                    'Groovy' : ['groovy'],\n",
    "                    'Ruby': ['ruby', '루비'],\n",
    "                    'Swift' : ['swift'],\n",
    "                   'Fortran' : ['fortran', '포트란'],\n",
    "                    'Perl' : ['perl'],\n",
    "                    'Delphi/Object Pascal' : ['delphi', '델파이']}\n",
    "\n",
    "lang_top_20_excl = {'Python': [],\n",
    "                  'C' : [],\n",
    "                  'Java' : ['script', '스크립트'],\n",
    "                   'C++':[],\n",
    "                   'C#' : [],\n",
    "                   'Visual Basic':['classic'],\n",
    "                   'Javascript':[],\n",
    "                   'SQL':[],\n",
    "                   'PHP':[],\n",
    "                    'Assembly language' : [],\n",
    "                    'Classic Visual Basic' : [],\n",
    "                    'Go' : [],\n",
    "                    'MATLAB' : [],\n",
    "                    'R': [],\n",
    "                    'Groovy' : [],\n",
    "                    'Ruby': [],\n",
    "                    'Swift' : [],\n",
    "                   'Fortran' : [],\n",
    "                    'Perl' : [],\n",
    "                    'Delphi/Object Pascal' : []}"
   ]
  },
  {
   "cell_type": "code",
   "execution_count": 7,
   "id": "ccbd29ae",
   "metadata": {
    "scrolled": true
   },
   "outputs": [],
   "source": [
    "del_list = []\n",
    "for idx, rows in df.iterrows():\n",
    "    del_flag = True\n",
    "    _title = str(rows['title']).lower()\n",
    "    _desc = str(rows['description']).lower()\n",
    "    for w in lang_top_20_incl[rows['keyword']]:\n",
    "        if (w in _desc) or (w in _title):\n",
    "            del_flag = False\n",
    "            break\n",
    "    for w in lang_top_20_excl[rows['keyword']]:\n",
    "        if (w in _desc) or (w in _title):\n",
    "            del_flag = True\n",
    "            break\n",
    "    if del_flag == True:\n",
    "        del_list.append(idx)\n",
    "        # print(rows)"
   ]
  },
  {
   "cell_type": "code",
   "execution_count": 8,
   "id": "b81543ea",
   "metadata": {},
   "outputs": [],
   "source": [
    "df.loc[del_list].to_excel('a.xlsx')\n",
    "df.drop(del_list).to_excel('b.xlsx')"
   ]
  },
  {
   "cell_type": "markdown",
   "id": "2bf279f4",
   "metadata": {},
   "source": [
    "###  ISBN 정보를 unique 검사 후 중복 데이터 제거"
   ]
  },
  {
   "cell_type": "code",
   "execution_count": 9,
   "id": "3ea37571",
   "metadata": {},
   "outputs": [
    {
     "name": "stdout",
     "output_type": "stream",
     "text": [
      "df length:\t22488\n"
     ]
    }
   ],
   "source": [
    "print('df length:\\t{}'.format(len(df)))"
   ]
  },
  {
   "cell_type": "code",
   "execution_count": 10,
   "id": "f365e09a",
   "metadata": {},
   "outputs": [
    {
     "name": "stdout",
     "output_type": "stream",
     "text": [
      "df length:\t\t22488\n",
      "unuque isbn num:\t19392\n"
     ]
    }
   ],
   "source": [
    "print('df length:\\t\\t{}'.format(len(df)))\n",
    "print('unuque isbn num:\\t{}'.format(df['isbn'].nunique()))"
   ]
  },
  {
   "cell_type": "code",
   "execution_count": 11,
   "id": "b749c942",
   "metadata": {},
   "outputs": [
    {
     "data": {
      "text/plain": [
       "19393"
      ]
     },
     "execution_count": 11,
     "metadata": {},
     "output_type": "execute_result"
    }
   ],
   "source": [
    "df_uni = df.drop_duplicates(subset=[\"isbn\"], keep='first')\n",
    "len(df_uni)"
   ]
  },
  {
   "cell_type": "markdown",
   "id": "6ba62939",
   "metadata": {},
   "source": [
    "# 책 페이지 수 수집"
   ]
  },
  {
   "cell_type": "code",
   "execution_count": 53,
   "id": "6b480484",
   "metadata": {},
   "outputs": [],
   "source": [
    "df_uni['pagecnt'] = np.nan"
   ]
  },
  {
   "cell_type": "code",
   "execution_count": 54,
   "id": "5bd129e7",
   "metadata": {},
   "outputs": [
    {
     "name": "stdout",
     "output_type": "stream",
     "text": [
      "0\n",
      "500\n",
      "1000\n",
      "2000\n",
      "2500\n",
      "3000\n",
      "3500\n",
      "4000\n",
      "4500\n",
      "5000\n",
      "6000\n",
      "6500\n",
      "7500\n",
      "8000\n",
      "8500\n",
      "9000\n",
      "9500\n",
      "10000\n",
      "10500\n",
      "11000\n",
      "11500\n",
      "12000\n",
      "12500\n",
      "13000\n",
      "14000\n",
      "18000\n",
      "18500\n",
      "20500\n",
      "21000\n",
      "21500\n",
      "22000\n"
     ]
    }
   ],
   "source": [
    "for idx, rows in df_uni.iterrows():\n",
    "    url = rows['link']\n",
    "    response = requests.get(url)\n",
    "    soup = BeautifulSoup(response.text, \"html.parser\")\n",
    "    tag  = soup.select('#container > div.spot > div.book_info > div.book_info_inner > div:nth-child(3)')\n",
    "    if tag == None:\n",
    "        print(idx, ' -None')\n",
    "        continue\n",
    "    try:\n",
    "        page_cnt = re.search('<em>페이지</em>.*?<', str(tag), re.I|re.S).group(0)\n",
    "        page_cnt = re.search(r'[0-9]+', str(page_cnt), re.I|re.S)\n",
    "        page_cnt = int(page_cnt.group(0))\n",
    "        df_uni.loc[idx,'pagecnt'] = page_cnt\n",
    "    except:\n",
    "        continue\n",
    "    if idx % 500 == 0:\n",
    "        print(idx)"
   ]
  },
  {
   "cell_type": "code",
   "execution_count": 63,
   "id": "e0af8fa3",
   "metadata": {},
   "outputs": [],
   "source": [
    "df_uni.dropna(subset=['pagecnt']).to_excel('pagecnt.xlsx', index=None)"
   ]
  },
  {
   "cell_type": "code",
   "execution_count": 224,
   "id": "d46bc0a9",
   "metadata": {},
   "outputs": [],
   "source": [
    "df_pagecnt = pd.read_excel(\"./pagecnt.xlsx\")\n",
    "df_pagecnt = df_pagecnt.dropna(subset=['price'])\n",
    "df_pagecnt = df_pagecnt.reset_index(drop=True)"
   ]
  },
  {
   "cell_type": "code",
   "execution_count": 225,
   "id": "e7d16e08",
   "metadata": {
    "scrolled": true
   },
   "outputs": [
    {
     "data": {
      "text/html": [
       "<div>\n",
       "<style scoped>\n",
       "    .dataframe tbody tr th:only-of-type {\n",
       "        vertical-align: middle;\n",
       "    }\n",
       "\n",
       "    .dataframe tbody tr th {\n",
       "        vertical-align: top;\n",
       "    }\n",
       "\n",
       "    .dataframe thead th {\n",
       "        text-align: right;\n",
       "    }\n",
       "</style>\n",
       "<table border=\"1\" class=\"dataframe\">\n",
       "  <thead>\n",
       "    <tr style=\"text-align: right;\">\n",
       "      <th></th>\n",
       "      <th>keyword</th>\n",
       "      <th>title</th>\n",
       "      <th>link</th>\n",
       "      <th>author</th>\n",
       "      <th>price</th>\n",
       "      <th>discount</th>\n",
       "      <th>publisher</th>\n",
       "      <th>pubdate</th>\n",
       "      <th>isbn</th>\n",
       "      <th>description</th>\n",
       "      <th>pagecnt</th>\n",
       "    </tr>\n",
       "  </thead>\n",
       "  <tbody>\n",
       "    <tr>\n",
       "      <th>0</th>\n",
       "      <td>Python</td>\n",
       "      <td>Effective Python 2nd 이펙티브 파이썬 : 파이썬 코딩의 기술 (똑똑...</td>\n",
       "      <td>http://book.naver.com/bookdb/book_detail.php?b...</td>\n",
       "      <td>브렛 슬라킨 지음|오현석</td>\n",
       "      <td>32000.0</td>\n",
       "      <td>28800.0</td>\n",
       "      <td>길벗</td>\n",
       "      <td>20201030</td>\n",
       "      <td>1165213192 9791165213190</td>\n",
       "      <td>아마존 파이썬 프로그래밍 분야 베스트셀러, 〈Effective Python〉 전면 ...</td>\n",
       "      <td>640</td>\n",
       "    </tr>\n",
       "    <tr>\n",
       "      <th>1</th>\n",
       "      <td>Python</td>\n",
       "      <td>파이썬 딥러닝 파이토치(Python Deep Learning PyTorch)</td>\n",
       "      <td>http://book.naver.com/bookdb/book_detail.php?b...</td>\n",
       "      <td>이경택|방성수|안상준</td>\n",
       "      <td>25000.0</td>\n",
       "      <td>22500.0</td>\n",
       "      <td>정보문화사</td>\n",
       "      <td>20201008</td>\n",
       "      <td>8956748578 9788956748573</td>\n",
       "      <td>파이썬은 선택이 아닌 필수! 파이토치로 딥러닝 입문하기!이 책은 딥러닝 기술에 초점...</td>\n",
       "      <td>310</td>\n",
       "    </tr>\n",
       "  </tbody>\n",
       "</table>\n",
       "</div>"
      ],
      "text/plain": [
       "  keyword                                              title  \\\n",
       "0  Python  Effective Python 2nd 이펙티브 파이썬 : 파이썬 코딩의 기술 (똑똑...   \n",
       "1  Python         파이썬 딥러닝 파이토치(Python Deep Learning PyTorch)   \n",
       "\n",
       "                                                link         author    price  \\\n",
       "0  http://book.naver.com/bookdb/book_detail.php?b...  브렛 슬라킨 지음|오현석  32000.0   \n",
       "1  http://book.naver.com/bookdb/book_detail.php?b...    이경택|방성수|안상준  25000.0   \n",
       "\n",
       "   discount publisher   pubdate                      isbn  \\\n",
       "0   28800.0        길벗  20201030  1165213192 9791165213190   \n",
       "1   22500.0     정보문화사  20201008  8956748578 9788956748573   \n",
       "\n",
       "                                         description  pagecnt  \n",
       "0  아마존 파이썬 프로그래밍 분야 베스트셀러, 〈Effective Python〉 전면 ...      640  \n",
       "1  파이썬은 선택이 아닌 필수! 파이토치로 딥러닝 입문하기!이 책은 딥러닝 기술에 초점...      310  "
      ]
     },
     "execution_count": 225,
     "metadata": {},
     "output_type": "execute_result"
    }
   ],
   "source": [
    "df_pagecnt.head(2)"
   ]
  },
  {
   "cell_type": "markdown",
   "id": "c4175e2b",
   "metadata": {},
   "source": [
    "## 각 언어별 IQR 넘는 이상치 제거\n",
    "### page수, price"
   ]
  },
  {
   "cell_type": "code",
   "execution_count": 226,
   "id": "334e358e",
   "metadata": {},
   "outputs": [],
   "source": [
    "df_pagecnt_iqr = pd.DataFrame(columns=['keyword','title','link','author','price','discount','publisher',\n",
    " 'pubdate','isbn','description','pagecnt'])\n",
    "df_pagecnt_iqr['pagecnt'] = df_pagecnt_iqr['pagecnt'].astype(int)\n",
    "df_pagecnt_iqr['price'] = df_pagecnt_iqr['price'].astype(int)"
   ]
  },
  {
   "cell_type": "code",
   "execution_count": 227,
   "id": "41533691",
   "metadata": {},
   "outputs": [],
   "source": [
    "lang_top_20 = ['Python', 'C', 'Java', 'C++', 'C#', 'Visual Basic', 'Javascript', 'SQL', 'PHP',\n",
    "               'Assembly language', 'Classic Visual Basic', 'Go', 'MATLAB', 'R', 'Groovy', 'Ruby', 'Swift',\n",
    "               'Fortran', 'Perl', 'Delphi/Object Pascal']"
   ]
  },
  {
   "cell_type": "code",
   "execution_count": 228,
   "id": "8767e8d4",
   "metadata": {},
   "outputs": [],
   "source": [
    "for key in lang_top_20:\n",
    "    df_tmp = df_pagecnt.loc[df_pagecnt['keyword'] == key]\n",
    "    if len(df_tmp) == 0:\n",
    "        continue\n",
    "    pg_quartile_1, pg_quartile_3 = np.percentile(df_tmp['pagecnt'], [25, 75])\n",
    "    pg_iqr = pg_quartile_3 - pg_quartile_1\n",
    "    pg_lower_bound = pg_quartile_1 - (pg_iqr * 1.5)\n",
    "    pg_upper_bound = pg_quartile_3 + (pg_iqr * 1.5)\n",
    "    \n",
    "    pr_quartile_1, pr_quartile_3 = np.percentile(df_tmp['price'], [25, 75])\n",
    "    pr_iqr = pr_quartile_3 - pr_quartile_1\n",
    "    pr_lower_bound = pr_quartile_1 - (pr_iqr * 1.5)\n",
    "    pr_upper_bound = pr_quartile_3 + (pr_iqr * 1.5)\n",
    "    \n",
    "    df_tmp = df_tmp.loc[(df_tmp['pagecnt']  >= pg_lower_bound) & (df_tmp['pagecnt'] <= pg_upper_bound) &\n",
    "                       (df_tmp['price']  >= pr_lower_bound) & (df_tmp['price'] <= pr_upper_bound)]\n",
    "    df_pagecnt_iqr = df_pagecnt_iqr.append(df_tmp)"
   ]
  },
  {
   "cell_type": "code",
   "execution_count": 229,
   "id": "4347fa8d",
   "metadata": {},
   "outputs": [],
   "source": [
    "df_pagecnt_iqr = df_pagecnt_iqr.reset_index(drop=True)"
   ]
  },
  {
   "cell_type": "markdown",
   "id": "18fecfc8",
   "metadata": {},
   "source": [
    "- 언어별 책의 가격은 어떤 특성이 있나요?\n",
    "- 언어별 페이지수도 어떤 특성이 있나요?\n",
    "- 페이지 수와 가격 사이에는 어떤 특성이 있나요?"
   ]
  },
  {
   "cell_type": "code",
   "execution_count": 230,
   "id": "fe5fd409",
   "metadata": {},
   "outputs": [
    {
     "name": "stdout",
     "output_type": "stream",
     "text": [
      "Python 언어 서적 page 평균 >>>       292.5\n",
      "C 언어 서적 page 평균 >>>       295.9\n",
      "Java 언어 서적 page 평균 >>>       465.7\n",
      "C++ 언어 서적 page 평균 >>>       519.0\n",
      "C# 언어 서적 page 평균 >>>       575.9\n",
      "Visual Basic 언어 서적 page 평균 >>>       503.9\n",
      "Javascript 언어 서적 page 평균 >>>       456.2\n",
      "SQL 언어 서적 page 평균 >>>       470.0\n",
      "PHP 언어 서적 page 평균 >>>       450.9\n",
      "Assembly language 언어 서적 page 평균 >>>       454.6\n",
      "Classic Visual Basic 언어 서적 page 평균 >>>       540.4\n",
      "Go 언어 서적 page 평균 >>>       192.8\n",
      "MATLAB 언어 서적 page 평균 >>>       342.8\n",
      "R 언어 서적 page 평균 >>>       367.6\n",
      "Groovy 언어 서적 page 평균 >>>       nan\n",
      "Ruby 언어 서적 page 평균 >>>       205.5\n",
      "Swift 언어 서적 page 평균 >>>       260.8\n",
      "Fortran 언어 서적 page 평균 >>>       442.3\n",
      "Perl 언어 서적 page 평균 >>>       398.4\n",
      "Delphi/Object Pascal 언어 서적 page 평균 >>>       513.6\n"
     ]
    }
   ],
   "source": [
    "for key in lang_top_20:\n",
    "    print('{0} 언어 서적 page 평균 >>>       {1:.1f}'.format(key, \n",
    "                                               df_pagecnt_iqr.loc[df_pagecnt_iqr['keyword']== key, 'pagecnt'].mean()))"
   ]
  },
  {
   "cell_type": "code",
   "execution_count": 238,
   "id": "81cc67cf",
   "metadata": {},
   "outputs": [
    {
     "data": {
      "image/png": "[encoded data removed]",
      "text/plain": [
       "<Figure size 720x432 with 1 Axes>"
      ]
     },
     "metadata": {
      "needs_background": "light"
     },
     "output_type": "display_data"
    }
   ],
   "source": [
    "df_plt = df_pagecnt_iqr[['keyword', 'price']].groupby('keyword').mean()\n",
    "\n",
    "plt.figure(figsize=(10, 6))\n",
    "plt.title(\"언어 별 평균 Price\")\n",
    "\n",
    "plt.bar(df_plt.index,\n",
    "         df_plt['price'],\n",
    "         width = 0.5)\n",
    "plt.grid(True)\n",
    "plt.xticks(rotation=90)\n",
    "# after plotting the data, format the labels\n",
    "current_values = plt.gca().get_yticks()\n",
    "plt.gca().set_yticklabels(['{:.1f}'.format(x) for x in current_values])\n",
    "    \n",
    "plt.show()"
   ]
  },
  {
   "cell_type": "code",
   "execution_count": 240,
   "id": "9f749e8e",
   "metadata": {},
   "outputs": [
    {
     "data": {
      "text/html": [
       "<div>\n",
       "<style scoped>\n",
       "    .dataframe tbody tr th:only-of-type {\n",
       "        vertical-align: middle;\n",
       "    }\n",
       "\n",
       "    .dataframe tbody tr th {\n",
       "        vertical-align: top;\n",
       "    }\n",
       "\n",
       "    .dataframe thead th {\n",
       "        text-align: right;\n",
       "    }\n",
       "</style>\n",
       "<table border=\"1\" class=\"dataframe\">\n",
       "  <thead>\n",
       "    <tr style=\"text-align: right;\">\n",
       "      <th></th>\n",
       "      <th>price</th>\n",
       "    </tr>\n",
       "    <tr>\n",
       "      <th>keyword</th>\n",
       "      <th></th>\n",
       "    </tr>\n",
       "  </thead>\n",
       "  <tbody>\n",
       "    <tr>\n",
       "      <th>Fortran</th>\n",
       "      <td>101134.626623</td>\n",
       "    </tr>\n",
       "    <tr>\n",
       "      <th>Classic Visual Basic</th>\n",
       "      <td>79599.801047</td>\n",
       "    </tr>\n",
       "    <tr>\n",
       "      <th>MATLAB</th>\n",
       "      <td>74071.323362</td>\n",
       "    </tr>\n",
       "    <tr>\n",
       "      <th>Delphi/Object Pascal</th>\n",
       "      <td>62896.166667</td>\n",
       "    </tr>\n",
       "    <tr>\n",
       "      <th>R</th>\n",
       "      <td>60641.776587</td>\n",
       "    </tr>\n",
       "  </tbody>\n",
       "</table>\n",
       "</div>"
      ],
      "text/plain": [
       "                              price\n",
       "keyword                            \n",
       "Fortran               101134.626623\n",
       "Classic Visual Basic   79599.801047\n",
       "MATLAB                 74071.323362\n",
       "Delphi/Object Pascal   62896.166667\n",
       "R                      60641.776587"
      ]
     },
     "execution_count": 240,
     "metadata": {},
     "output_type": "execute_result"
    }
   ],
   "source": [
    "df_plt.sort_values('price', ascending=False).head()"
   ]
  },
  {
   "cell_type": "markdown",
   "id": "8e8abfac",
   "metadata": {},
   "source": [
    "- 언어별 서적 평균 가격은 Fortran > Classic VB > Matlab > Delphi > R 순이다"
   ]
  },
  {
   "cell_type": "code",
   "execution_count": 241,
   "id": "fb2d459a",
   "metadata": {},
   "outputs": [
    {
     "data": {
      "image/png": "[encoded data removed]",
      "text/plain": [
       "<Figure size 720x432 with 1 Axes>"
      ]
     },
     "metadata": {
      "needs_background": "light"
     },
     "output_type": "display_data"
    }
   ],
   "source": [
    "df_plt = df_pagecnt_iqr[['keyword', 'pagecnt']].groupby('keyword').mean()\n",
    "\n",
    "plt.figure(figsize=(10, 6))\n",
    "plt.title(\"언어 별 평균 page수\")\n",
    "\n",
    "plt.bar(df_plt.index,\n",
    "         df_plt['pagecnt'],\n",
    "         width = 0.5)\n",
    "plt.grid(True)\n",
    "plt.xticks(rotation=90)\n",
    "# after plotting the data, format the labels\n",
    "current_values = plt.gca().get_yticks()\n",
    "plt.gca().set_yticklabels(['{:.1f}'.format(x) for x in current_values])\n",
    "    \n",
    "plt.show()"
   ]
  },
  {
   "cell_type": "code",
   "execution_count": 242,
   "id": "dd26931c",
   "metadata": {},
   "outputs": [
    {
     "data": {
      "text/html": [
       "<div>\n",
       "<style scoped>\n",
       "    .dataframe tbody tr th:only-of-type {\n",
       "        vertical-align: middle;\n",
       "    }\n",
       "\n",
       "    .dataframe tbody tr th {\n",
       "        vertical-align: top;\n",
       "    }\n",
       "\n",
       "    .dataframe thead th {\n",
       "        text-align: right;\n",
       "    }\n",
       "</style>\n",
       "<table border=\"1\" class=\"dataframe\">\n",
       "  <thead>\n",
       "    <tr style=\"text-align: right;\">\n",
       "      <th></th>\n",
       "      <th>pagecnt</th>\n",
       "    </tr>\n",
       "    <tr>\n",
       "      <th>keyword</th>\n",
       "      <th></th>\n",
       "    </tr>\n",
       "  </thead>\n",
       "  <tbody>\n",
       "    <tr>\n",
       "      <th>C#</th>\n",
       "      <td>575.895770</td>\n",
       "    </tr>\n",
       "    <tr>\n",
       "      <th>Classic Visual Basic</th>\n",
       "      <td>540.350785</td>\n",
       "    </tr>\n",
       "    <tr>\n",
       "      <th>C++</th>\n",
       "      <td>518.955521</td>\n",
       "    </tr>\n",
       "    <tr>\n",
       "      <th>Delphi/Object Pascal</th>\n",
       "      <td>513.611111</td>\n",
       "    </tr>\n",
       "    <tr>\n",
       "      <th>Visual Basic</th>\n",
       "      <td>503.903454</td>\n",
       "    </tr>\n",
       "  </tbody>\n",
       "</table>\n",
       "</div>"
      ],
      "text/plain": [
       "                         pagecnt\n",
       "keyword                         \n",
       "C#                    575.895770\n",
       "Classic Visual Basic  540.350785\n",
       "C++                   518.955521\n",
       "Delphi/Object Pascal  513.611111\n",
       "Visual Basic          503.903454"
      ]
     },
     "execution_count": 242,
     "metadata": {},
     "output_type": "execute_result"
    }
   ],
   "source": [
    "df_plt.sort_values('pagecnt', ascending=False).head()"
   ]
  },
  {
   "cell_type": "markdown",
   "id": "bd19f222",
   "metadata": {},
   "source": [
    "- 언어별 서적 평균 페이지 수는  C# > Classic VB > C++ > Delphi > VB 순이다\n",
    "- 일부 언어를 제외하면 각 각 큰 차이는 없는 듯 보인다."
   ]
  },
  {
   "cell_type": "code",
   "execution_count": 257,
   "id": "ad1b77eb",
   "metadata": {},
   "outputs": [
    {
     "data": {
      "text/html": [
       "<div>\n",
       "<style scoped>\n",
       "    .dataframe tbody tr th:only-of-type {\n",
       "        vertical-align: middle;\n",
       "    }\n",
       "\n",
       "    .dataframe tbody tr th {\n",
       "        vertical-align: top;\n",
       "    }\n",
       "\n",
       "    .dataframe thead th {\n",
       "        text-align: right;\n",
       "    }\n",
       "</style>\n",
       "<table border=\"1\" class=\"dataframe\">\n",
       "  <thead>\n",
       "    <tr style=\"text-align: right;\">\n",
       "      <th></th>\n",
       "      <th>pagecnt</th>\n",
       "      <th>price</th>\n",
       "    </tr>\n",
       "  </thead>\n",
       "  <tbody>\n",
       "    <tr>\n",
       "      <th>pagecnt</th>\n",
       "      <td>1.000000</td>\n",
       "      <td>0.209923</td>\n",
       "    </tr>\n",
       "    <tr>\n",
       "      <th>price</th>\n",
       "      <td>0.209923</td>\n",
       "      <td>1.000000</td>\n",
       "    </tr>\n",
       "  </tbody>\n",
       "</table>\n",
       "</div>"
      ],
      "text/plain": [
       "          pagecnt     price\n",
       "pagecnt  1.000000  0.209923\n",
       "price    0.209923  1.000000"
      ]
     },
     "execution_count": 257,
     "metadata": {},
     "output_type": "execute_result"
    }
   ],
   "source": [
    "df_pagecnt_iqr[['pagecnt', 'price']].corr()"
   ]
  },
  {
   "cell_type": "markdown",
   "id": "744afdbd",
   "metadata": {},
   "source": [
    "- 페이지 수와 가격 사이에는 약한 상관관계가 있는 것으로 보인다."
   ]
  },
  {
   "cell_type": "code",
   "execution_count": 255,
   "id": "592c3f53",
   "metadata": {
    "scrolled": true
   },
   "outputs": [
    {
     "name": "stdout",
     "output_type": "stream",
     "text": [
      "Python  >>>\n",
      "          pagecnt     price\n",
      "pagecnt  1.000000 -0.016506\n",
      "price   -0.016506  1.000000\n",
      "------------------------------\n",
      "C  >>>\n",
      "          pagecnt     price\n",
      "pagecnt  1.000000 -0.021183\n",
      "price   -0.021183  1.000000\n",
      "------------------------------\n",
      "Java  >>>\n",
      "          pagecnt     price\n",
      "pagecnt  1.000000  0.073491\n",
      "price    0.073491  1.000000\n",
      "------------------------------\n",
      "C++  >>>\n",
      "         pagecnt    price\n",
      "pagecnt  1.00000  0.14241\n",
      "price    0.14241  1.00000\n",
      "------------------------------\n",
      "C#  >>>\n",
      "          pagecnt     price\n",
      "pagecnt  1.000000  0.218826\n",
      "price    0.218826  1.000000\n",
      "------------------------------\n",
      "Visual Basic  >>>\n",
      "          pagecnt     price\n",
      "pagecnt  1.000000  0.358353\n",
      "price    0.358353  1.000000\n",
      "------------------------------\n",
      "Javascript  >>>\n",
      "          pagecnt     price\n",
      "pagecnt  1.000000  0.196088\n",
      "price    0.196088  1.000000\n",
      "------------------------------\n",
      "SQL  >>>\n",
      "          pagecnt     price\n",
      "pagecnt  1.000000  0.215648\n",
      "price    0.215648  1.000000\n",
      "------------------------------\n",
      "PHP  >>>\n",
      "          pagecnt     price\n",
      "pagecnt  1.000000  0.210915\n",
      "price    0.210915  1.000000\n",
      "------------------------------\n",
      "Assembly language  >>>\n",
      "          pagecnt     price\n",
      "pagecnt  1.000000  0.116709\n",
      "price    0.116709  1.000000\n",
      "------------------------------\n",
      "Classic Visual Basic  >>>\n",
      "          pagecnt     price\n",
      "pagecnt  1.000000  0.257185\n",
      "price    0.257185  1.000000\n",
      "------------------------------\n",
      "Go  >>>\n",
      "          pagecnt     price\n",
      "pagecnt  1.000000  0.170089\n",
      "price    0.170089  1.000000\n",
      "------------------------------\n",
      "MATLAB  >>>\n",
      "          pagecnt     price\n",
      "pagecnt  1.000000  0.194941\n",
      "price    0.194941  1.000000\n",
      "------------------------------\n",
      "R  >>>\n",
      "          pagecnt     price\n",
      "pagecnt  1.000000  0.223395\n",
      "price    0.223395  1.000000\n",
      "------------------------------\n",
      "Groovy  >>>\n",
      "         pagecnt  price\n",
      "pagecnt      NaN    NaN\n",
      "price        NaN    NaN\n",
      "------------------------------\n",
      "Ruby  >>>\n",
      "          pagecnt     price\n",
      "pagecnt  1.000000  0.425861\n",
      "price    0.425861  1.000000\n",
      "------------------------------\n",
      "Swift  >>>\n",
      "         pagecnt    price\n",
      "pagecnt  1.00000  0.46192\n",
      "price    0.46192  1.00000\n",
      "------------------------------\n",
      "Fortran  >>>\n",
      "          pagecnt     price\n",
      "pagecnt  1.000000  0.171571\n",
      "price    0.171571  1.000000\n",
      "------------------------------\n",
      "Perl  >>>\n",
      "          pagecnt     price\n",
      "pagecnt  1.000000  0.130607\n",
      "price    0.130607  1.000000\n",
      "------------------------------\n",
      "Delphi/Object Pascal  >>>\n",
      "          pagecnt     price\n",
      "pagecnt  1.000000  0.364984\n",
      "price    0.364984  1.000000\n",
      "------------------------------\n"
     ]
    }
   ],
   "source": [
    "for k in lang_top_20:\n",
    "    print(k , \" >>>\")\n",
    "    print(df_pagecnt_iqr.loc[df_pagecnt_iqr['keyword'] == k][['pagecnt', 'price']].corr())\n",
    "    print('-'* 30)"
   ]
  },
  {
   "cell_type": "markdown",
   "id": "178da355",
   "metadata": {},
   "source": [
    "- C# , VB, SQL, PHP, Classic VB, R, Ruby, Swift, Delphi 정도에서 페이지 수와 가격간의 상관관계가 보이지만\n",
    "- 나머지 언어 서적에 대해서는 상관관계가 보지 않는 듯 하다"
   ]
  },
  {
   "cell_type": "code",
   "execution_count": null,
   "id": "1da8946d",
   "metadata": {},
   "outputs": [],
   "source": []
  }
 ],
 "metadata": {
  "kernelspec": {
   "display_name": "Python 3 (ipykernel)",
   "language": "python",
   "name": "python3"
  },
  "language_info": {
   "codemirror_mode": {
    "name": "ipython",
    "version": 3
   },
   "file_extension": ".py",
   "mimetype": "text/x-python",
   "name": "python",
   "nbconvert_exporter": "python",
   "pygments_lexer": "ipython3",
   "version": "3.8.11"
  }
 },
 "nbformat": 4,
 "nbformat_minor": 5
}
